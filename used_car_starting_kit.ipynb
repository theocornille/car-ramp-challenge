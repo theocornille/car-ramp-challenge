{
 "cells": [
  {
   "cell_type": "markdown",
   "metadata": {},
   "source": [
    "<div style=\"text-align: center\">\n",
    "<img src=\"https://www.frenchscienceindia.org/wp-content/uploads/2017/02/Logo-Univ-Paris-Saclay.png\" width=\"150px\">\n",
    "</div>"
   ]
  },
  {
   "cell_type": "markdown",
   "metadata": {},
   "source": [
    "<div style=\"text-align: center\">\n",
    "\n",
    "# [Paris Saclay Center for Data Science](http://www.datascience-paris-saclay.fr)\n",
    "\n",
    "# Predict used cars prices!\n",
    "\n",
    "\n",
    "_des lauriers Cédric, Cornille Théo_"
   ]
  },
  {
   "cell_type": "markdown",
   "metadata": {},
   "source": [
    "# Introduction"
   ]
  },
  {
   "cell_type": "markdown",
   "metadata": {},
   "source": [
    "When shopping for a used vehicle, typically an overriding concern is: Am I paying too much? This question is often difficult to answer due to the fact that it's hard to keep track of all the vehicles of interest currently available on the market.\n",
    "\n",
    "A second, and related concern, is: Which vehicles with similar specifications are available? This information can help the buyer get a feel for what else is available on the market and provide an indication of the value of the vehicle currently under consideration."
   ]
  },
  {
   "cell_type": "markdown",
   "metadata": {},
   "source": [
    "<img src=\"https://static.carfromjapan.com/wp-content/uploads/2016/08/tips_for_buying_a_used_car.png\" width=\"500px\">"
   ]
  },
  {
   "cell_type": "markdown",
   "metadata": {},
   "source": [
    "In this project, we would like to build a tool that helps both used car buyers and user car sellers. Indeed, it could help used car buyers to know which price they are going to pay depending on the characteristic they entered for a specific type of car. But, it will also help used car sellers to adjust their price.\n",
    "Thus, the goal of this project is to develop prediction models able to predict the prices of used cars depending on their characteristics.\n",
    "The solutions to this challenge must give the buyers some knowledge about what's make the price of a car."
   ]
  },
  {
   "cell_type": "markdown",
   "metadata": {},
   "source": [
    "## Metric used"
   ]
  },
  {
   "cell_type": "markdown",
   "metadata": {},
   "source": [
    "In order to get accurate prices for new used cars, the mean squared error will be our metric for this challenge."
   ]
  },
  {
   "cell_type": "markdown",
   "metadata": {},
   "source": [
    "<img src=\"https://qph.fs.quoracdn.net/main-qimg-008e40d98b5ce869d6b19c8eb9108178\" width=\"300px\">"
   ]
  },
  {
   "cell_type": "markdown",
   "metadata": {},
   "source": [
    "## The Data"
   ]
  },
  {
   "cell_type": "markdown",
   "metadata": {},
   "source": [
    "The dataset we will manipulate comes from Ebay data. Ebay is an American multinational e-commerce corporation based in San Jose California, founded in 1995 that facilitates consumer-to-consumer and business-to-consumer sales through its website. Over 370000 used cars have been scraped with Scrapy.\n",
    "\n",
    "As the content was in german, the data has been translated in english to be easily understandable. \n",
    "\n",
    "As inputs we have:\n",
    "* name : \"name\" of the car\n",
    "* seller : private or dealer\n",
    "* price : the price on the ad to sell the car\n",
    "* abtest\n",
    "* vehicleType\n",
    "* yearOfRegistration : at which year the car was first registered\n",
    "* gearbox\n",
    "* powerPS : power of the car in PS\n",
    "* model\n",
    "* kilometer : how many kilometers the car has driven\n",
    "* monthOfRegistration : at which month the car was first registered\n",
    "* fuelType\n",
    "* brand\n",
    "* notRepairedDamage : if the car has a damage which is not repaired yet\n",
    "* postalCode\n",
    "* dateCreated : the date for which the ad at ebay was created\n",
    "* dateCrawled : when this ad was first crawled, all field-values are taken from this date\n",
    "* lastSeenOnline : when the crawler saw this ad last online"
   ]
  },
  {
   "cell_type": "markdown",
   "metadata": {},
   "source": [
    "### Required dependencies and downloads\n",
    "\n",
    "* `numpy`\n",
    "* `pandas`\n",
    "* `scikit-learn`\n",
    "* `matplolib`\n",
    "* `seaborn`\n",
    "* `imbalanced-learn`"
   ]
  },
  {
   "cell_type": "markdown",
   "metadata": {},
   "source": [
    "You need to install our runing requirements to be able to use our notebook on your PC. Simply run the command below"
   ]
  },
  {
   "cell_type": "code",
   "execution_count": null,
   "metadata": {
    "collapsed": true
   },
   "outputs": [],
   "source": [
    "# !pip install -r requirements.txt"
   ]
  },
  {
   "cell_type": "markdown",
   "metadata": {},
   "source": [
    " "
   ]
  },
  {
   "cell_type": "code",
   "execution_count": 1,
   "metadata": {},
   "outputs": [],
   "source": [
    "import pandas as pd\n",
    "import numpy as np\n",
    "import matplotlib.pyplot as plt\n",
    "%matplotlib inline"
   ]
  },
  {
   "cell_type": "markdown",
   "metadata": {},
   "source": [
    "#  I ) Exploratory data analysis"
   ]
  },
  {
   "cell_type": "markdown",
   "metadata": {},
   "source": [
    "### Loading the data"
   ]
  },
  {
   "cell_type": "code",
   "execution_count": 2,
   "metadata": {},
   "outputs": [],
   "source": [
    "from problem import get_train_data\n",
    "\n",
    "data_train, y_train = get_train_data()"
   ]
  },
  {
   "cell_type": "code",
   "execution_count": 3,
   "metadata": {},
   "outputs": [
    {
     "name": "stdout",
     "output_type": "stream",
     "text": [
      "(210000, 15)\n"
     ]
    },
    {
     "data": {
      "text/html": [
       "<div>\n",
       "<style scoped>\n",
       "    .dataframe tbody tr th:only-of-type {\n",
       "        vertical-align: middle;\n",
       "    }\n",
       "\n",
       "    .dataframe tbody tr th {\n",
       "        vertical-align: top;\n",
       "    }\n",
       "\n",
       "    .dataframe thead th {\n",
       "        text-align: right;\n",
       "    }\n",
       "</style>\n",
       "<table border=\"1\" class=\"dataframe\">\n",
       "  <thead>\n",
       "    <tr style=\"text-align: right;\">\n",
       "      <th></th>\n",
       "      <th>seller</th>\n",
       "      <th>abtest</th>\n",
       "      <th>vehicleType</th>\n",
       "      <th>yearOfRegistration</th>\n",
       "      <th>gearbox</th>\n",
       "      <th>powerPS</th>\n",
       "      <th>model</th>\n",
       "      <th>kilometer</th>\n",
       "      <th>monthOfRegistration</th>\n",
       "      <th>fuelType</th>\n",
       "      <th>brand</th>\n",
       "      <th>notRepairedDamage</th>\n",
       "      <th>dateCreated</th>\n",
       "      <th>dateCrawled</th>\n",
       "      <th>lastSeen</th>\n",
       "    </tr>\n",
       "  </thead>\n",
       "  <tbody>\n",
       "    <tr>\n",
       "      <th>0</th>\n",
       "      <td>private</td>\n",
       "      <td>control</td>\n",
       "      <td>suv</td>\n",
       "      <td>2003</td>\n",
       "      <td>manual</td>\n",
       "      <td>114</td>\n",
       "      <td>x_trail</td>\n",
       "      <td>150000</td>\n",
       "      <td>11</td>\n",
       "      <td>diesel</td>\n",
       "      <td>nissan</td>\n",
       "      <td>no</td>\n",
       "      <td>2016-03-12 00:00:00</td>\n",
       "      <td>2016-03-12 09:55:46</td>\n",
       "      <td>2016-03-13 01:17:39</td>\n",
       "    </tr>\n",
       "    <tr>\n",
       "      <th>1</th>\n",
       "      <td>private</td>\n",
       "      <td>control</td>\n",
       "      <td>small</td>\n",
       "      <td>2011</td>\n",
       "      <td>automatic</td>\n",
       "      <td>86</td>\n",
       "      <td>polo</td>\n",
       "      <td>90000</td>\n",
       "      <td>5</td>\n",
       "      <td>gasoline</td>\n",
       "      <td>volkswagen</td>\n",
       "      <td>no</td>\n",
       "      <td>2016-04-03 00:00:00</td>\n",
       "      <td>2016-04-03 13:55:50</td>\n",
       "      <td>2016-04-05 12:46:50</td>\n",
       "    </tr>\n",
       "    <tr>\n",
       "      <th>2</th>\n",
       "      <td>private</td>\n",
       "      <td>control</td>\n",
       "      <td>limousine</td>\n",
       "      <td>2010</td>\n",
       "      <td>automatic</td>\n",
       "      <td>136</td>\n",
       "      <td>e_klasse</td>\n",
       "      <td>150000</td>\n",
       "      <td>11</td>\n",
       "      <td>diesel</td>\n",
       "      <td>mercedes_benz</td>\n",
       "      <td>no</td>\n",
       "      <td>2016-03-11 00:00:00</td>\n",
       "      <td>2016-03-11 11:37:03</td>\n",
       "      <td>2016-04-07 05:44:58</td>\n",
       "    </tr>\n",
       "    <tr>\n",
       "      <th>3</th>\n",
       "      <td>private</td>\n",
       "      <td>test</td>\n",
       "      <td>convertible</td>\n",
       "      <td>1996</td>\n",
       "      <td>manual</td>\n",
       "      <td>193</td>\n",
       "      <td>3er</td>\n",
       "      <td>150000</td>\n",
       "      <td>3</td>\n",
       "      <td>gasoline</td>\n",
       "      <td>bmw</td>\n",
       "      <td>no</td>\n",
       "      <td>2016-03-28 00:00:00</td>\n",
       "      <td>2016-03-28 17:48:37</td>\n",
       "      <td>2016-04-02 22:47:01</td>\n",
       "    </tr>\n",
       "    <tr>\n",
       "      <th>4</th>\n",
       "      <td>private</td>\n",
       "      <td>control</td>\n",
       "      <td>NaN</td>\n",
       "      <td>2017</td>\n",
       "      <td>NaN</td>\n",
       "      <td>116</td>\n",
       "      <td>3er</td>\n",
       "      <td>150000</td>\n",
       "      <td>0</td>\n",
       "      <td>gasoline</td>\n",
       "      <td>bmw</td>\n",
       "      <td>no</td>\n",
       "      <td>2016-03-26 00:00:00</td>\n",
       "      <td>2016-03-26 12:47:25</td>\n",
       "      <td>2016-03-29 14:47:45</td>\n",
       "    </tr>\n",
       "  </tbody>\n",
       "</table>\n",
       "</div>"
      ],
      "text/plain": [
       "    seller   abtest  vehicleType  yearOfRegistration    gearbox  powerPS  \\\n",
       "0  private  control          suv                2003     manual      114   \n",
       "1  private  control        small                2011  automatic       86   \n",
       "2  private  control    limousine                2010  automatic      136   \n",
       "3  private     test  convertible                1996     manual      193   \n",
       "4  private  control          NaN                2017        NaN      116   \n",
       "\n",
       "      model  kilometer  monthOfRegistration  fuelType          brand  \\\n",
       "0   x_trail     150000                   11    diesel         nissan   \n",
       "1      polo      90000                    5  gasoline     volkswagen   \n",
       "2  e_klasse     150000                   11    diesel  mercedes_benz   \n",
       "3       3er     150000                    3  gasoline            bmw   \n",
       "4       3er     150000                    0  gasoline            bmw   \n",
       "\n",
       "  notRepairedDamage          dateCreated          dateCrawled  \\\n",
       "0                no  2016-03-12 00:00:00  2016-03-12 09:55:46   \n",
       "1                no  2016-04-03 00:00:00  2016-04-03 13:55:50   \n",
       "2                no  2016-03-11 00:00:00  2016-03-11 11:37:03   \n",
       "3                no  2016-03-28 00:00:00  2016-03-28 17:48:37   \n",
       "4                no  2016-03-26 00:00:00  2016-03-26 12:47:25   \n",
       "\n",
       "              lastSeen  \n",
       "0  2016-03-13 01:17:39  \n",
       "1  2016-04-05 12:46:50  \n",
       "2  2016-04-07 05:44:58  \n",
       "3  2016-04-02 22:47:01  \n",
       "4  2016-03-29 14:47:45  "
      ]
     },
     "execution_count": 3,
     "metadata": {},
     "output_type": "execute_result"
    }
   ],
   "source": [
    "print(data_train.shape)\n",
    "data_train.head()"
   ]
  },
  {
   "cell_type": "markdown",
   "metadata": {},
   "source": [
    "Values taken by specific rows:"
   ]
  },
  {
   "cell_type": "code",
   "execution_count": 4,
   "metadata": {},
   "outputs": [
    {
     "name": "stdout",
     "output_type": "stream",
     "text": [
      "['seller'] : ['private' 'dealer']\n",
      "['abtest'] : ['control' 'test']\n",
      "['gearbox'] : ['manual' 'automatic' nan]\n",
      "['fuelType'] : ['diesel' 'gasoline' nan 'lpg' 'hybrid' 'cng' 'electric' 'other']\n",
      "['notRepairedDamage'] : ['no' nan 'yes']\n",
      "['vehicleType'] : ['suv' 'small' 'limousine' 'convertible' nan 'estate' 'bus' 'coupe'\n",
      " 'other']\n"
     ]
    }
   ],
   "source": [
    "cat_val = [\"seller\", \"abtest\", \"gearbox\",\"fuelType\", \"notRepairedDamage\", \"vehicleType\"]\n",
    "for col in cat_val:\n",
    "    print ([col],\":\",data_train[col].unique())"
   ]
  },
  {
   "cell_type": "code",
   "execution_count": 5,
   "metadata": {},
   "outputs": [
    {
     "data": {
      "text/html": [
       "<div>\n",
       "<style scoped>\n",
       "    .dataframe tbody tr th:only-of-type {\n",
       "        vertical-align: middle;\n",
       "    }\n",
       "\n",
       "    .dataframe tbody tr th {\n",
       "        vertical-align: top;\n",
       "    }\n",
       "\n",
       "    .dataframe thead th {\n",
       "        text-align: right;\n",
       "    }\n",
       "</style>\n",
       "<table border=\"1\" class=\"dataframe\">\n",
       "  <thead>\n",
       "    <tr style=\"text-align: right;\">\n",
       "      <th></th>\n",
       "      <th>yearOfRegistration</th>\n",
       "      <th>powerPS</th>\n",
       "      <th>kilometer</th>\n",
       "      <th>monthOfRegistration</th>\n",
       "    </tr>\n",
       "  </thead>\n",
       "  <tbody>\n",
       "    <tr>\n",
       "      <th>count</th>\n",
       "      <td>210000.000000</td>\n",
       "      <td>210000.000000</td>\n",
       "      <td>210000.000000</td>\n",
       "      <td>210000.000000</td>\n",
       "    </tr>\n",
       "    <tr>\n",
       "      <th>mean</th>\n",
       "      <td>2003.352757</td>\n",
       "      <td>114.158414</td>\n",
       "      <td>125797.500000</td>\n",
       "      <td>5.831629</td>\n",
       "    </tr>\n",
       "    <tr>\n",
       "      <th>std</th>\n",
       "      <td>7.314191</td>\n",
       "      <td>70.155371</td>\n",
       "      <td>39533.808714</td>\n",
       "      <td>3.668086</td>\n",
       "    </tr>\n",
       "    <tr>\n",
       "      <th>min</th>\n",
       "      <td>1945.000000</td>\n",
       "      <td>0.000000</td>\n",
       "      <td>5000.000000</td>\n",
       "      <td>0.000000</td>\n",
       "    </tr>\n",
       "    <tr>\n",
       "      <th>25%</th>\n",
       "      <td>1999.000000</td>\n",
       "      <td>75.000000</td>\n",
       "      <td>100000.000000</td>\n",
       "      <td>3.000000</td>\n",
       "    </tr>\n",
       "    <tr>\n",
       "      <th>50%</th>\n",
       "      <td>2003.000000</td>\n",
       "      <td>107.000000</td>\n",
       "      <td>150000.000000</td>\n",
       "      <td>6.000000</td>\n",
       "    </tr>\n",
       "    <tr>\n",
       "      <th>75%</th>\n",
       "      <td>2008.000000</td>\n",
       "      <td>150.000000</td>\n",
       "      <td>150000.000000</td>\n",
       "      <td>9.000000</td>\n",
       "    </tr>\n",
       "    <tr>\n",
       "      <th>max</th>\n",
       "      <td>2017.000000</td>\n",
       "      <td>800.000000</td>\n",
       "      <td>150000.000000</td>\n",
       "      <td>12.000000</td>\n",
       "    </tr>\n",
       "  </tbody>\n",
       "</table>\n",
       "</div>"
      ],
      "text/plain": [
       "       yearOfRegistration        powerPS      kilometer  monthOfRegistration\n",
       "count       210000.000000  210000.000000  210000.000000        210000.000000\n",
       "mean          2003.352757     114.158414  125797.500000             5.831629\n",
       "std              7.314191      70.155371   39533.808714             3.668086\n",
       "min           1945.000000       0.000000    5000.000000             0.000000\n",
       "25%           1999.000000      75.000000  100000.000000             3.000000\n",
       "50%           2003.000000     107.000000  150000.000000             6.000000\n",
       "75%           2008.000000     150.000000  150000.000000             9.000000\n",
       "max           2017.000000     800.000000  150000.000000            12.000000"
      ]
     },
     "execution_count": 5,
     "metadata": {},
     "output_type": "execute_result"
    }
   ],
   "source": [
    "data_train.describe()"
   ]
  },
  {
   "cell_type": "code",
   "execution_count": 6,
   "metadata": {},
   "outputs": [
    {
     "data": {
      "text/plain": [
       "seller                     0\n",
       "abtest                     0\n",
       "vehicleType            17070\n",
       "yearOfRegistration         0\n",
       "gearbox                 9409\n",
       "powerPS                    0\n",
       "model                  10188\n",
       "kilometer                  0\n",
       "monthOfRegistration        0\n",
       "fuelType               16041\n",
       "brand                      0\n",
       "notRepairedDamage      37650\n",
       "dateCreated                0\n",
       "dateCrawled                0\n",
       "lastSeen                   0\n",
       "dtype: int64"
      ]
     },
     "execution_count": 6,
     "metadata": {},
     "output_type": "execute_result"
    }
   ],
   "source": [
    "# We count the missing data for each variable\n",
    "missing_values = data_train.isnull().sum()\n",
    "missing_values"
   ]
  },
  {
   "cell_type": "markdown",
   "metadata": {},
   "source": [
    "Some values are missing (\"NaN\" Values). It must be replaced by zeros instead.\n",
    "\n",
    "The function clean_and_transform from the file problem.py helps to treat and clean data."
   ]
  },
  {
   "cell_type": "code",
   "execution_count": 7,
   "metadata": {},
   "outputs": [],
   "source": [
    "from problem import clean_and_transform\n",
    "\n",
    "X_train = clean_and_transform(data_train)"
   ]
  },
  {
   "cell_type": "code",
   "execution_count": 8,
   "metadata": {},
   "outputs": [
    {
     "data": {
      "text/html": [
       "<div>\n",
       "<style scoped>\n",
       "    .dataframe tbody tr th:only-of-type {\n",
       "        vertical-align: middle;\n",
       "    }\n",
       "\n",
       "    .dataframe tbody tr th {\n",
       "        vertical-align: top;\n",
       "    }\n",
       "\n",
       "    .dataframe thead th {\n",
       "        text-align: right;\n",
       "    }\n",
       "</style>\n",
       "<table border=\"1\" class=\"dataframe\">\n",
       "  <thead>\n",
       "    <tr style=\"text-align: right;\">\n",
       "      <th></th>\n",
       "      <th>seller</th>\n",
       "      <th>abtest</th>\n",
       "      <th>vehicleType</th>\n",
       "      <th>yearOfRegistration</th>\n",
       "      <th>gearbox</th>\n",
       "      <th>powerPS</th>\n",
       "      <th>model</th>\n",
       "      <th>kilometer</th>\n",
       "      <th>monthOfRegistration</th>\n",
       "      <th>fuelType</th>\n",
       "      <th>brand</th>\n",
       "      <th>notRepairedDamage</th>\n",
       "      <th>dateCreated</th>\n",
       "      <th>dateCrawled</th>\n",
       "      <th>lastSeen</th>\n",
       "    </tr>\n",
       "  </thead>\n",
       "  <tbody>\n",
       "    <tr>\n",
       "      <th>0</th>\n",
       "      <td>1</td>\n",
       "      <td>0</td>\n",
       "      <td>8</td>\n",
       "      <td>2003</td>\n",
       "      <td>2</td>\n",
       "      <td>114</td>\n",
       "      <td>242</td>\n",
       "      <td>150000</td>\n",
       "      <td>11</td>\n",
       "      <td>2</td>\n",
       "      <td>23</td>\n",
       "      <td>1</td>\n",
       "      <td>2016-03-12</td>\n",
       "      <td>2016-03-12 09:55:46</td>\n",
       "      <td>2016-03-13 01:17:39</td>\n",
       "    </tr>\n",
       "    <tr>\n",
       "      <th>1</th>\n",
       "      <td>1</td>\n",
       "      <td>0</td>\n",
       "      <td>7</td>\n",
       "      <td>2011</td>\n",
       "      <td>0</td>\n",
       "      <td>86</td>\n",
       "      <td>174</td>\n",
       "      <td>90000</td>\n",
       "      <td>5</td>\n",
       "      <td>4</td>\n",
       "      <td>38</td>\n",
       "      <td>1</td>\n",
       "      <td>2016-04-03</td>\n",
       "      <td>2016-04-03 13:55:50</td>\n",
       "      <td>2016-04-05 12:46:50</td>\n",
       "    </tr>\n",
       "    <tr>\n",
       "      <th>2</th>\n",
       "      <td>1</td>\n",
       "      <td>0</td>\n",
       "      <td>5</td>\n",
       "      <td>2010</td>\n",
       "      <td>0</td>\n",
       "      <td>136</td>\n",
       "      <td>97</td>\n",
       "      <td>150000</td>\n",
       "      <td>11</td>\n",
       "      <td>2</td>\n",
       "      <td>20</td>\n",
       "      <td>1</td>\n",
       "      <td>2016-03-11</td>\n",
       "      <td>2016-03-11 11:37:03</td>\n",
       "      <td>2016-04-07 05:44:58</td>\n",
       "    </tr>\n",
       "    <tr>\n",
       "      <th>3</th>\n",
       "      <td>1</td>\n",
       "      <td>1</td>\n",
       "      <td>2</td>\n",
       "      <td>1996</td>\n",
       "      <td>2</td>\n",
       "      <td>193</td>\n",
       "      <td>11</td>\n",
       "      <td>150000</td>\n",
       "      <td>3</td>\n",
       "      <td>4</td>\n",
       "      <td>2</td>\n",
       "      <td>1</td>\n",
       "      <td>2016-03-28</td>\n",
       "      <td>2016-03-28 17:48:37</td>\n",
       "      <td>2016-04-02 22:47:01</td>\n",
       "    </tr>\n",
       "    <tr>\n",
       "      <th>4</th>\n",
       "      <td>1</td>\n",
       "      <td>0</td>\n",
       "      <td>0</td>\n",
       "      <td>2017</td>\n",
       "      <td>1</td>\n",
       "      <td>116</td>\n",
       "      <td>11</td>\n",
       "      <td>150000</td>\n",
       "      <td>0</td>\n",
       "      <td>4</td>\n",
       "      <td>2</td>\n",
       "      <td>1</td>\n",
       "      <td>2016-03-26</td>\n",
       "      <td>2016-03-26 12:47:25</td>\n",
       "      <td>2016-03-29 14:47:45</td>\n",
       "    </tr>\n",
       "  </tbody>\n",
       "</table>\n",
       "</div>"
      ],
      "text/plain": [
       "   seller  abtest  vehicleType  yearOfRegistration  gearbox  powerPS  model  \\\n",
       "0       1       0            8                2003        2      114    242   \n",
       "1       1       0            7                2011        0       86    174   \n",
       "2       1       0            5                2010        0      136     97   \n",
       "3       1       1            2                1996        2      193     11   \n",
       "4       1       0            0                2017        1      116     11   \n",
       "\n",
       "   kilometer  monthOfRegistration  fuelType  brand  notRepairedDamage  \\\n",
       "0     150000                   11         2     23                  1   \n",
       "1      90000                    5         4     38                  1   \n",
       "2     150000                   11         2     20                  1   \n",
       "3     150000                    3         4      2                  1   \n",
       "4     150000                    0         4      2                  1   \n",
       "\n",
       "  dateCreated         dateCrawled            lastSeen  \n",
       "0  2016-03-12 2016-03-12 09:55:46 2016-03-13 01:17:39  \n",
       "1  2016-04-03 2016-04-03 13:55:50 2016-04-05 12:46:50  \n",
       "2  2016-03-11 2016-03-11 11:37:03 2016-04-07 05:44:58  \n",
       "3  2016-03-28 2016-03-28 17:48:37 2016-04-02 22:47:01  \n",
       "4  2016-03-26 2016-03-26 12:47:25 2016-03-29 14:47:45  "
      ]
     },
     "execution_count": 8,
     "metadata": {},
     "output_type": "execute_result"
    }
   ],
   "source": [
    "X_train.head()"
   ]
  },
  {
   "cell_type": "code",
   "execution_count": 9,
   "metadata": {},
   "outputs": [
    {
     "name": "stdout",
     "output_type": "stream",
     "text": [
      "<class 'pandas.core.frame.DataFrame'>\n",
      "RangeIndex: 210000 entries, 0 to 209999\n",
      "Data columns (total 15 columns):\n",
      "seller                 210000 non-null int8\n",
      "abtest                 210000 non-null int8\n",
      "vehicleType            210000 non-null int8\n",
      "yearOfRegistration     210000 non-null int64\n",
      "gearbox                210000 non-null int8\n",
      "powerPS                210000 non-null int64\n",
      "model                  210000 non-null int16\n",
      "kilometer              210000 non-null int64\n",
      "monthOfRegistration    210000 non-null int64\n",
      "fuelType               210000 non-null int8\n",
      "brand                  210000 non-null int8\n",
      "notRepairedDamage      210000 non-null int8\n",
      "dateCreated            210000 non-null datetime64[ns]\n",
      "dateCrawled            210000 non-null datetime64[ns]\n",
      "lastSeen               210000 non-null datetime64[ns]\n",
      "dtypes: datetime64[ns](3), int16(1), int64(4), int8(7)\n",
      "memory usage: 13.0 MB\n"
     ]
    }
   ],
   "source": [
    "X_train.info()"
   ]
  },
  {
   "cell_type": "code",
   "execution_count": 10,
   "metadata": {},
   "outputs": [
    {
     "data": {
      "text/plain": [
       "array([ 4400, 10200, 16800, ...,  4250,  3200, 29000], dtype=int64)"
      ]
     },
     "execution_count": 10,
     "metadata": {},
     "output_type": "execute_result"
    }
   ],
   "source": [
    "#corresponding to prices for each vehicle\n",
    "y_train"
   ]
  },
  {
   "cell_type": "markdown",
   "metadata": {},
   "source": [
    "## Testing data"
   ]
  },
  {
   "cell_type": "markdown",
   "metadata": {},
   "source": [
    "In order to evaluate the performance of the submissions, the dataset has then been split in three parts (train, test, valid).\n",
    "\n",
    "In this starting kit is provided only the test set.\n",
    "\n",
    "The validation set (not provided) will be used as the hidden test data for the final evaluation."
   ]
  },
  {
   "cell_type": "markdown",
   "metadata": {},
   "source": [
    "The testing data can be loaded similarly as follows:"
   ]
  },
  {
   "cell_type": "code",
   "execution_count": 11,
   "metadata": {},
   "outputs": [],
   "source": [
    "from problem import get_test_data\n",
    "\n",
    "data_test, y_test = get_test_data()"
   ]
  },
  {
   "cell_type": "code",
   "execution_count": 12,
   "metadata": {},
   "outputs": [
    {
     "data": {
      "text/html": [
       "<div>\n",
       "<style scoped>\n",
       "    .dataframe tbody tr th:only-of-type {\n",
       "        vertical-align: middle;\n",
       "    }\n",
       "\n",
       "    .dataframe tbody tr th {\n",
       "        vertical-align: top;\n",
       "    }\n",
       "\n",
       "    .dataframe thead th {\n",
       "        text-align: right;\n",
       "    }\n",
       "</style>\n",
       "<table border=\"1\" class=\"dataframe\">\n",
       "  <thead>\n",
       "    <tr style=\"text-align: right;\">\n",
       "      <th></th>\n",
       "      <th>seller</th>\n",
       "      <th>abtest</th>\n",
       "      <th>vehicleType</th>\n",
       "      <th>yearOfRegistration</th>\n",
       "      <th>gearbox</th>\n",
       "      <th>powerPS</th>\n",
       "      <th>model</th>\n",
       "      <th>kilometer</th>\n",
       "      <th>monthOfRegistration</th>\n",
       "      <th>fuelType</th>\n",
       "      <th>brand</th>\n",
       "      <th>notRepairedDamage</th>\n",
       "      <th>dateCreated</th>\n",
       "      <th>dateCrawled</th>\n",
       "      <th>lastSeen</th>\n",
       "    </tr>\n",
       "  </thead>\n",
       "  <tbody>\n",
       "    <tr>\n",
       "      <th>0</th>\n",
       "      <td>private</td>\n",
       "      <td>control</td>\n",
       "      <td>limousine</td>\n",
       "      <td>2003</td>\n",
       "      <td>manual</td>\n",
       "      <td>0</td>\n",
       "      <td>polo</td>\n",
       "      <td>125000</td>\n",
       "      <td>12</td>\n",
       "      <td>gasoline</td>\n",
       "      <td>volkswagen</td>\n",
       "      <td>NaN</td>\n",
       "      <td>2016-03-24 00:00:00</td>\n",
       "      <td>2016-03-24 22:55:07</td>\n",
       "      <td>2016-03-25 06:45:07</td>\n",
       "    </tr>\n",
       "    <tr>\n",
       "      <th>1</th>\n",
       "      <td>private</td>\n",
       "      <td>control</td>\n",
       "      <td>small</td>\n",
       "      <td>2009</td>\n",
       "      <td>automatic</td>\n",
       "      <td>71</td>\n",
       "      <td>fortwo</td>\n",
       "      <td>40000</td>\n",
       "      <td>9</td>\n",
       "      <td>gasoline</td>\n",
       "      <td>smart</td>\n",
       "      <td>no</td>\n",
       "      <td>2016-04-03 00:00:00</td>\n",
       "      <td>2016-04-03 12:53:07</td>\n",
       "      <td>2016-04-05 11:45:14</td>\n",
       "    </tr>\n",
       "    <tr>\n",
       "      <th>2</th>\n",
       "      <td>private</td>\n",
       "      <td>test</td>\n",
       "      <td>limousine</td>\n",
       "      <td>2008</td>\n",
       "      <td>manual</td>\n",
       "      <td>143</td>\n",
       "      <td>1er</td>\n",
       "      <td>100000</td>\n",
       "      <td>4</td>\n",
       "      <td>diesel</td>\n",
       "      <td>bmw</td>\n",
       "      <td>no</td>\n",
       "      <td>2016-03-26 00:00:00</td>\n",
       "      <td>2016-03-26 18:40:58</td>\n",
       "      <td>2016-04-06 07:44:57</td>\n",
       "    </tr>\n",
       "    <tr>\n",
       "      <th>3</th>\n",
       "      <td>private</td>\n",
       "      <td>test</td>\n",
       "      <td>small</td>\n",
       "      <td>1999</td>\n",
       "      <td>manual</td>\n",
       "      <td>60</td>\n",
       "      <td>polo</td>\n",
       "      <td>150000</td>\n",
       "      <td>3</td>\n",
       "      <td>gasoline</td>\n",
       "      <td>volkswagen</td>\n",
       "      <td>NaN</td>\n",
       "      <td>2016-03-23 00:00:00</td>\n",
       "      <td>2016-03-23 18:36:17</td>\n",
       "      <td>2016-03-23 19:42:29</td>\n",
       "    </tr>\n",
       "    <tr>\n",
       "      <th>4</th>\n",
       "      <td>private</td>\n",
       "      <td>test</td>\n",
       "      <td>other</td>\n",
       "      <td>2004</td>\n",
       "      <td>manual</td>\n",
       "      <td>0</td>\n",
       "      <td>andere</td>\n",
       "      <td>150000</td>\n",
       "      <td>2</td>\n",
       "      <td>diesel</td>\n",
       "      <td>opel</td>\n",
       "      <td>no</td>\n",
       "      <td>2016-03-31 00:00:00</td>\n",
       "      <td>2016-03-31 21:46:15</td>\n",
       "      <td>2016-03-31 21:46:15</td>\n",
       "    </tr>\n",
       "  </tbody>\n",
       "</table>\n",
       "</div>"
      ],
      "text/plain": [
       "    seller   abtest vehicleType  yearOfRegistration    gearbox  powerPS  \\\n",
       "0  private  control   limousine                2003     manual        0   \n",
       "1  private  control       small                2009  automatic       71   \n",
       "2  private     test   limousine                2008     manual      143   \n",
       "3  private     test       small                1999     manual       60   \n",
       "4  private     test       other                2004     manual        0   \n",
       "\n",
       "    model  kilometer  monthOfRegistration  fuelType       brand  \\\n",
       "0    polo     125000                   12  gasoline  volkswagen   \n",
       "1  fortwo      40000                    9  gasoline       smart   \n",
       "2     1er     100000                    4    diesel         bmw   \n",
       "3    polo     150000                    3  gasoline  volkswagen   \n",
       "4  andere     150000                    2    diesel        opel   \n",
       "\n",
       "  notRepairedDamage          dateCreated          dateCrawled  \\\n",
       "0               NaN  2016-03-24 00:00:00  2016-03-24 22:55:07   \n",
       "1                no  2016-04-03 00:00:00  2016-04-03 12:53:07   \n",
       "2                no  2016-03-26 00:00:00  2016-03-26 18:40:58   \n",
       "3               NaN  2016-03-23 00:00:00  2016-03-23 18:36:17   \n",
       "4                no  2016-03-31 00:00:00  2016-03-31 21:46:15   \n",
       "\n",
       "              lastSeen  \n",
       "0  2016-03-25 06:45:07  \n",
       "1  2016-04-05 11:45:14  \n",
       "2  2016-04-06 07:44:57  \n",
       "3  2016-03-23 19:42:29  \n",
       "4  2016-03-31 21:46:15  "
      ]
     },
     "execution_count": 12,
     "metadata": {},
     "output_type": "execute_result"
    }
   ],
   "source": [
    "data_test.head()"
   ]
  },
  {
   "cell_type": "code",
   "execution_count": 13,
   "metadata": {},
   "outputs": [],
   "source": [
    "#clean and treat test set\n",
    "from problem import clean_and_transform\n",
    "\n",
    "X_test = clean_and_transform(data_test)"
   ]
  },
  {
   "cell_type": "code",
   "execution_count": 14,
   "metadata": {},
   "outputs": [
    {
     "data": {
      "text/html": [
       "<div>\n",
       "<style scoped>\n",
       "    .dataframe tbody tr th:only-of-type {\n",
       "        vertical-align: middle;\n",
       "    }\n",
       "\n",
       "    .dataframe tbody tr th {\n",
       "        vertical-align: top;\n",
       "    }\n",
       "\n",
       "    .dataframe thead th {\n",
       "        text-align: right;\n",
       "    }\n",
       "</style>\n",
       "<table border=\"1\" class=\"dataframe\">\n",
       "  <thead>\n",
       "    <tr style=\"text-align: right;\">\n",
       "      <th></th>\n",
       "      <th>seller</th>\n",
       "      <th>abtest</th>\n",
       "      <th>vehicleType</th>\n",
       "      <th>yearOfRegistration</th>\n",
       "      <th>gearbox</th>\n",
       "      <th>powerPS</th>\n",
       "      <th>model</th>\n",
       "      <th>kilometer</th>\n",
       "      <th>monthOfRegistration</th>\n",
       "      <th>fuelType</th>\n",
       "      <th>brand</th>\n",
       "      <th>notRepairedDamage</th>\n",
       "      <th>dateCreated</th>\n",
       "      <th>dateCrawled</th>\n",
       "      <th>lastSeen</th>\n",
       "    </tr>\n",
       "  </thead>\n",
       "  <tbody>\n",
       "    <tr>\n",
       "      <th>0</th>\n",
       "      <td>0</td>\n",
       "      <td>0</td>\n",
       "      <td>5</td>\n",
       "      <td>2003</td>\n",
       "      <td>2</td>\n",
       "      <td>0</td>\n",
       "      <td>175</td>\n",
       "      <td>125000</td>\n",
       "      <td>12</td>\n",
       "      <td>4</td>\n",
       "      <td>38</td>\n",
       "      <td>0</td>\n",
       "      <td>2016-03-24</td>\n",
       "      <td>2016-03-24 22:55:07</td>\n",
       "      <td>2016-03-25 06:45:07</td>\n",
       "    </tr>\n",
       "    <tr>\n",
       "      <th>1</th>\n",
       "      <td>0</td>\n",
       "      <td>0</td>\n",
       "      <td>7</td>\n",
       "      <td>2009</td>\n",
       "      <td>0</td>\n",
       "      <td>71</td>\n",
       "      <td>109</td>\n",
       "      <td>40000</td>\n",
       "      <td>9</td>\n",
       "      <td>4</td>\n",
       "      <td>32</td>\n",
       "      <td>1</td>\n",
       "      <td>2016-04-03</td>\n",
       "      <td>2016-04-03 12:53:07</td>\n",
       "      <td>2016-04-05 11:45:14</td>\n",
       "    </tr>\n",
       "    <tr>\n",
       "      <th>2</th>\n",
       "      <td>0</td>\n",
       "      <td>1</td>\n",
       "      <td>5</td>\n",
       "      <td>2008</td>\n",
       "      <td>2</td>\n",
       "      <td>143</td>\n",
       "      <td>6</td>\n",
       "      <td>100000</td>\n",
       "      <td>4</td>\n",
       "      <td>2</td>\n",
       "      <td>2</td>\n",
       "      <td>1</td>\n",
       "      <td>2016-03-26</td>\n",
       "      <td>2016-03-26 18:40:58</td>\n",
       "      <td>2016-04-06 07:44:57</td>\n",
       "    </tr>\n",
       "    <tr>\n",
       "      <th>3</th>\n",
       "      <td>0</td>\n",
       "      <td>1</td>\n",
       "      <td>7</td>\n",
       "      <td>1999</td>\n",
       "      <td>2</td>\n",
       "      <td>60</td>\n",
       "      <td>175</td>\n",
       "      <td>150000</td>\n",
       "      <td>3</td>\n",
       "      <td>4</td>\n",
       "      <td>38</td>\n",
       "      <td>0</td>\n",
       "      <td>2016-03-23</td>\n",
       "      <td>2016-03-23 18:36:17</td>\n",
       "      <td>2016-03-23 19:42:29</td>\n",
       "    </tr>\n",
       "    <tr>\n",
       "      <th>4</th>\n",
       "      <td>0</td>\n",
       "      <td>1</td>\n",
       "      <td>6</td>\n",
       "      <td>2004</td>\n",
       "      <td>2</td>\n",
       "      <td>0</td>\n",
       "      <td>40</td>\n",
       "      <td>150000</td>\n",
       "      <td>2</td>\n",
       "      <td>2</td>\n",
       "      <td>24</td>\n",
       "      <td>1</td>\n",
       "      <td>2016-03-31</td>\n",
       "      <td>2016-03-31 21:46:15</td>\n",
       "      <td>2016-03-31 21:46:15</td>\n",
       "    </tr>\n",
       "  </tbody>\n",
       "</table>\n",
       "</div>"
      ],
      "text/plain": [
       "   seller  abtest  vehicleType  yearOfRegistration  gearbox  powerPS  model  \\\n",
       "0       0       0            5                2003        2        0    175   \n",
       "1       0       0            7                2009        0       71    109   \n",
       "2       0       1            5                2008        2      143      6   \n",
       "3       0       1            7                1999        2       60    175   \n",
       "4       0       1            6                2004        2        0     40   \n",
       "\n",
       "   kilometer  monthOfRegistration  fuelType  brand  notRepairedDamage  \\\n",
       "0     125000                   12         4     38                  0   \n",
       "1      40000                    9         4     32                  1   \n",
       "2     100000                    4         2      2                  1   \n",
       "3     150000                    3         4     38                  0   \n",
       "4     150000                    2         2     24                  1   \n",
       "\n",
       "  dateCreated         dateCrawled            lastSeen  \n",
       "0  2016-03-24 2016-03-24 22:55:07 2016-03-25 06:45:07  \n",
       "1  2016-04-03 2016-04-03 12:53:07 2016-04-05 11:45:14  \n",
       "2  2016-03-26 2016-03-26 18:40:58 2016-04-06 07:44:57  \n",
       "3  2016-03-23 2016-03-23 18:36:17 2016-03-23 19:42:29  \n",
       "4  2016-03-31 2016-03-31 21:46:15 2016-03-31 21:46:15  "
      ]
     },
     "execution_count": 14,
     "metadata": {},
     "output_type": "execute_result"
    }
   ],
   "source": [
    "X_test.head()"
   ]
  },
  {
   "cell_type": "markdown",
   "metadata": {},
   "source": [
    " "
   ]
  },
  {
   "cell_type": "markdown",
   "metadata": {},
   "source": [
    "# Data Visualization"
   ]
  },
  {
   "cell_type": "code",
   "execution_count": null,
   "metadata": {},
   "outputs": [],
   "source": []
  },
  {
   "cell_type": "markdown",
   "metadata": {},
   "source": [
    "## Workflow"
   ]
  },
  {
   "cell_type": "code",
   "execution_count": 19,
   "metadata": {},
   "outputs": [
    {
     "ename": "SyntaxError",
     "evalue": "invalid syntax (<ipython-input-19-f0809fcef1f3>, line 1)",
     "output_type": "error",
     "traceback": [
      "\u001b[1;36m  File \u001b[1;32m\"<ipython-input-19-f0809fcef1f3>\"\u001b[1;36m, line \u001b[1;32m1\u001b[0m\n\u001b[1;33m    <img src=\"img/carrampchall.png\">\u001b[0m\n\u001b[1;37m    ^\u001b[0m\n\u001b[1;31mSyntaxError\u001b[0m\u001b[1;31m:\u001b[0m invalid syntax\n"
     ]
    }
   ],
   "source": [
    "<img src=\"img/carrampchall.png\">"
   ]
  },
  {
   "cell_type": "markdown",
   "metadata": {},
   "source": [
    "# The model to submit"
   ]
  },
  {
   "cell_type": "markdown",
   "metadata": {},
   "source": [
    "The submission consists of two files: feature_extractor.py which defines a FeatureExtractor class, and regressor.py which defines a CRegressor class"
   ]
  },
  {
   "cell_type": "markdown",
   "metadata": {},
   "source": [
    "* FeatureExtractor can (optionally) hold code to calculate, filter or add additional features.\n",
    "* Regressor fits the model and predicts on (new) data, as outputted by the Feature Extractor."
   ]
  },
  {
   "cell_type": "markdown",
   "metadata": {},
   "source": [
    " "
   ]
  },
  {
   "cell_type": "markdown",
   "metadata": {},
   "source": [
    "### Feature extractor"
   ]
  },
  {
   "cell_type": "markdown",
   "metadata": {},
   "source": [
    "An example FeatureExtractor, adding an additional feature based on "
   ]
  },
  {
   "cell_type": "code",
   "execution_count": 21,
   "metadata": {},
   "outputs": [],
   "source": [
    "import pandas as pd\n",
    "import numpy as np\n",
    "\n",
    "#scaler\n",
    "from sklearn.preprocessing import MinMaxScaler\n",
    "from sklearn.preprocessing import StandardScaler\n",
    "\n",
    "class FeatureExtractor():\n",
    "    def __init__(self):\n",
    "        pass\n",
    "    \n",
    "    #def __init__(self,attribute_names):\n",
    "       # self.attribute_names = attribute_names\n",
    "        \n",
    "                \n",
    "        \n",
    "    def fit(self, X_df, y=None):\n",
    "        return self\n",
    "    \n",
    "    \n",
    "    def transform(self, X_df):\n",
    "        X_df_new = X_df.copy()\n",
    "        \n",
    "        #&(X_df_new[\"price\"].between(100, 200000, inclusive=True))\n",
    "        \n",
    "        X_df_new = self.drop_columns(X_df_new)\n",
    "        \n",
    "        \n",
    "        #scaler = StandardScaler()\n",
    "\n",
    "        #X_df_new[['yearOfRegistration', 'gearbox', 'powerPS', 'model', 'kilometer', 'monthOfRegistration']] = scaler.fit_transform(X_df_new [['yearOfRegistration', 'gearbox', 'powerPS', 'model', 'kilometer', 'monthOfRegistration']])\n",
    "        \n",
    "        X_df_new = X_df_new.values\n",
    "        return X_df_new\n",
    "    \n",
    "    def drop_columns(self, X_df, columns_to_drop=[\"dateCrawled\", \"abtest\", \"dateCreated\", \"lastSeen\"]):\n",
    "        X_df_new = X_df.copy()\n",
    "        X_df_new = X_df_new.drop(columns_to_drop, axis=1)\n",
    "        return X_df_new"
   ]
  },
  {
   "cell_type": "markdown",
   "metadata": {},
   "source": [
    "or test it directly on data as this example:"
   ]
  },
  {
   "cell_type": "code",
   "execution_count": 23,
   "metadata": {},
   "outputs": [
    {
     "name": "stdout",
     "output_type": "stream",
     "text": [
      "(210000, 11)\n"
     ]
    }
   ],
   "source": [
    "fe = FeatureExtractor()\n",
    "fe.fit(X_train, y_train)\n",
    "New_X_train = fe.transform(X_train)\n",
    "print(New_X_train.shape)"
   ]
  },
  {
   "cell_type": "markdown",
   "metadata": {},
   "source": [
    "## Regressor"
   ]
  },
  {
   "cell_type": "markdown",
   "metadata": {},
   "source": [
    "And an example Regressor doing a standard scaling and Decision Tree regression for the price prediction:"
   ]
  },
  {
   "cell_type": "code",
   "execution_count": 24,
   "metadata": {},
   "outputs": [],
   "source": [
    "import numpy as np\n",
    "from sklearn.base import BaseEstimator, TransformerMixin\n",
    "from sklearn.linear_model import BayesianRidge\n",
    "from sklearn.ensemble import RandomForestRegressor\n",
    "from sklearn.datasets import make_regression\n",
    "from sklearn.tree import DecisionTreeRegressor\n",
    "from sklearn.linear_model import LinearRegression\n",
    "\n",
    "\n",
    "class Regressor(BaseEstimator):\n",
    "    def __init__(self):\n",
    "        self.reg = DecisionTreeRegressor(random_state=42)\n",
    "        #self.reg = LinearRegression()\n",
    "\n",
    "    def fit(self, X, y):\n",
    "        self.reg.fit(X, y)\n",
    "\n",
    "\n",
    "    def predict(self, X):\n",
    "        return self.reg.predict(X)[:, np.newaxis]  # pour le passer en (machin, 1 ) mais ça change rien"
   ]
  },
  {
   "cell_type": "markdown",
   "metadata": {},
   "source": [
    "## Test pipeline "
   ]
  },
  {
   "cell_type": "markdown",
   "metadata": {},
   "source": [
    "Using thus model interactively in the notebook to fit on the training data and predict for the testing data:"
   ]
  },
  {
   "cell_type": "code",
   "execution_count": 25,
   "metadata": {},
   "outputs": [],
   "source": [
    "from sklearn.pipeline import make_pipeline"
   ]
  },
  {
   "cell_type": "code",
   "execution_count": 26,
   "metadata": {},
   "outputs": [],
   "source": [
    "model = make_pipeline(FeatureExtractor(), Regressor())"
   ]
  },
  {
   "cell_type": "code",
   "execution_count": 27,
   "metadata": {},
   "outputs": [
    {
     "data": {
      "text/plain": [
       "210000"
      ]
     },
     "execution_count": 27,
     "metadata": {},
     "output_type": "execute_result"
    }
   ],
   "source": [
    "len(y_train)"
   ]
  },
  {
   "cell_type": "code",
   "execution_count": 28,
   "metadata": {},
   "outputs": [
    {
     "data": {
      "text/plain": [
       "Pipeline(memory=None,\n",
       "     steps=[('featureextractor', <__main__.FeatureExtractor object at 0x000002B4CB56A0F0>), ('regressor', Regressor())])"
      ]
     },
     "execution_count": 28,
     "metadata": {},
     "output_type": "execute_result"
    }
   ],
   "source": [
    "model.fit(X_train, y_train)"
   ]
  },
  {
   "cell_type": "code",
   "execution_count": null,
   "metadata": {},
   "outputs": [],
   "source": []
  },
  {
   "cell_type": "code",
   "execution_count": 30,
   "metadata": {},
   "outputs": [],
   "source": [
    "y_pred = model.predict(X_test)"
   ]
  },
  {
   "cell_type": "code",
   "execution_count": 31,
   "metadata": {},
   "outputs": [
    {
     "data": {
      "text/plain": [
       "(70000, 1)"
      ]
     },
     "execution_count": 31,
     "metadata": {},
     "output_type": "execute_result"
    }
   ],
   "source": [
    "y_pred.shape"
   ]
  },
  {
   "cell_type": "code",
   "execution_count": 32,
   "metadata": {},
   "outputs": [
    {
     "data": {
      "text/plain": [
       "array([[ 2750.],\n",
       "       [ 4970.],\n",
       "       [ 8950.],\n",
       "       ...,\n",
       "       [12900.],\n",
       "       [  299.],\n",
       "       [ 6132.]])"
      ]
     },
     "execution_count": 32,
     "metadata": {},
     "output_type": "execute_result"
    }
   ],
   "source": [
    "y_pred"
   ]
  },
  {
   "cell_type": "code",
   "execution_count": 35,
   "metadata": {},
   "outputs": [
    {
     "name": "stdout",
     "output_type": "stream",
     "text": [
      "RMSE on test: 6575.2203749827095\n"
     ]
    }
   ],
   "source": [
    "from sklearn.metrics import mean_squared_error\n",
    "\n",
    "print(\"RMSE on test:\",np.sqrt(mean_squared_error(y_test, y_pred)))"
   ]
  },
  {
   "cell_type": "code",
   "execution_count": null,
   "metadata": {},
   "outputs": [],
   "source": []
  },
  {
   "cell_type": "markdown",
   "metadata": {},
   "source": [
    "## Evaluation with Cross-Validation"
   ]
  },
  {
   "cell_type": "markdown",
   "metadata": {},
   "source": [
    "The metrics explained above are actually calcualted using a cross-validation approach (5-fold cross-validation):"
   ]
  },
  {
   "cell_type": "code",
   "execution_count": 36,
   "metadata": {},
   "outputs": [],
   "source": [
    "# 6333 linear regression,  4900 decision tree regressor\n",
    "from sklearn.model_selection import cross_val_score\n",
    "\n",
    "def evaluation(model, X, y):\n",
    "    scores = cross_val_score(model, X, y, scoring=\"neg_mean_squared_error\", cv=4)\n",
    "    \n",
    "    results = np.sqrt(-scores)\n",
    "    \n",
    "    return results"
   ]
  },
  {
   "cell_type": "code",
   "execution_count": 37,
   "metadata": {},
   "outputs": [],
   "source": [
    "results = evaluation(model, X_train, y_train)"
   ]
  },
  {
   "cell_type": "code",
   "execution_count": 38,
   "metadata": {},
   "outputs": [
    {
     "name": "stdout",
     "output_type": "stream",
     "text": [
      "Scores: [5694.48549817 6758.45632694 6194.71856587 5922.9609923 ]\n",
      "Mean: 6142.655345822698\n",
      "Standard deviation: 397.1911531439782\n"
     ]
    }
   ],
   "source": [
    "print(\"Scores:\", results)\n",
    "print(\"Mean:\", results.mean())\n",
    "print(\"Standard deviation:\", results.std())"
   ]
  },
  {
   "cell_type": "markdown",
   "metadata": {},
   "source": [
    "## Submitting to the online challenge: ramp.studio"
   ]
  },
  {
   "cell_type": "code",
   "execution_count": 39,
   "metadata": {},
   "outputs": [
    {
     "name": "stdout",
     "output_type": "stream",
     "text": [
      "\u001b[38;5;178m\u001b[1mTesting Cars price\u001b[0m\n",
      "\u001b[38;5;178m\u001b[1mReading train and test files from ./data ...\u001b[0m\n",
      "\u001b[38;5;178m\u001b[1mReading cv ...\u001b[0m\n"
     ]
    },
    {
     "name": "stderr",
     "output_type": "stream",
     "text": [
      "Traceback (most recent call last):\n",
      "  File \"c:\\users\\tco\\anaconda3\\lib\\runpy.py\", line 193, in _run_module_as_main\n",
      "    \"__main__\", mod_spec)\n",
      "  File \"c:\\users\\tco\\anaconda3\\lib\\runpy.py\", line 85, in _run_code\n",
      "    exec(code, run_globals)\n",
      "  File \"C:\\Users\\TCO\\Anaconda3\\Scripts\\ramp_test_submission.exe\\__main__.py\", line 9, in <module>\n",
      "  File \"c:\\users\\tco\\anaconda3\\lib\\site-packages\\rampwf\\utils\\command_line.py\", line 93, in ramp_test_submission\n",
      "    retrain=retrain)\n",
      "  File \"c:\\users\\tco\\anaconda3\\lib\\site-packages\\rampwf\\utils\\testing.py\", line 82, in assert_submission\n",
      "    cv = assert_cv(ramp_kit_dir, ramp_data_dir)\n",
      "  File \"c:\\users\\tco\\anaconda3\\lib\\site-packages\\rampwf\\utils\\testing.py\", line 53, in assert_cv\n",
      "    cv = list(problem.get_cv(X_train, y_train))\n",
      "  File \"c:\\users\\tco\\anaconda3\\lib\\site-packages\\sklearn\\model_selection\\_split.py\", line 1237, in split\n",
      "    for train, test in self._iter_indices(X, y, groups):\n",
      "  File \"c:\\users\\tco\\anaconda3\\lib\\site-packages\\sklearn\\model_selection\\_split.py\", line 1585, in _iter_indices\n",
      "    raise ValueError(\"The least populated class in y has only 1\"\n",
      "ValueError: The least populated class in y has only 1 member, which is too few. The minimum number of groups for any class cannot be less than 2.\n"
     ]
    }
   ],
   "source": [
    "!ramp_test_submission --submission starting_kit"
   ]
  },
  {
   "cell_type": "markdown",
   "metadata": {},
   "source": [
    "## Advices "
   ]
  },
  {
   "cell_type": "markdown",
   "metadata": {},
   "source": [
    "The usual way to work with RAMP is to explore solutions, add feature transformations, select models, perhaps do some AutoML/hyperopt, etc., locally, and checking them with ramp_test_submission. The script prints mean cross-validation scores"
   ]
  },
  {
   "cell_type": "markdown",
   "metadata": {},
   "source": [
    " "
   ]
  },
  {
   "cell_type": "markdown",
   "metadata": {},
   "source": [
    "# Useless behind:"
   ]
  },
  {
   "cell_type": "code",
   "execution_count": 22,
   "metadata": {},
   "outputs": [],
   "source": [
    "from imblearn.metrics import classification_report_imbalanced\n",
    "from imblearn.pipeline import make_pipeline as make_pipeline_imb\n",
    "from imblearn.over_sampling import RandomOverSampler"
   ]
  }
 ],
 "metadata": {
  "kernelspec": {
   "display_name": "Python 3",
   "language": "python",
   "name": "python3"
  },
  "language_info": {
   "codemirror_mode": {
    "name": "ipython",
    "version": 3
   },
   "file_extension": ".py",
   "mimetype": "text/x-python",
   "name": "python",
   "nbconvert_exporter": "python",
   "pygments_lexer": "ipython3",
   "version": "3.5.6"
  },
  "latex_envs": {
   "LaTeX_envs_menu_present": true,
   "autocomplete": true,
   "bibliofile": "biblio.bib",
   "cite_by": "apalike",
   "current_citInitial": 1,
   "eqLabelWithNumbers": true,
   "eqNumInitial": 1,
   "hotkeys": {
    "equation": "Ctrl-E",
    "itemize": "Ctrl-I"
   },
   "labels_anchors": false,
   "latex_user_defs": false,
   "report_style_numbering": false,
   "user_envs_cfg": false
  }
 },
 "nbformat": 4,
 "nbformat_minor": 2
}
